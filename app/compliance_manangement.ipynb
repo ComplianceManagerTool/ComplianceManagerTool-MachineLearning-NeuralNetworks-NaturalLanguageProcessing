{
 "cells": [
  {
   "cell_type": "code",
   "execution_count": 1,
   "metadata": {},
   "outputs": [
    {
     "name": "stdout",
     "output_type": "stream",
     "text": [
      "                                                  text    category\n",
      "0    After a decade of saving and investing more th...     Finance\n",
      "1    In accounting, revenue is the income that a bu...     Finance\n",
      "2    Office of the Revenue Commissioners. ... Novem...     Finance\n",
      "3    The belief that deflation will continue has be...     Finance\n",
      "4    Money is any item or verifiable record that is...     Finance\n",
      "5    Complete stock market coverage with breaking n...     Finance\n",
      "6    Nvidia Corp.'s stock plummeted Friday for its ...     Finance\n",
      "7    In finance, the benefit from investment is cal...     Finance\n",
      "8    Buybacks in particular have attracted the ire ...     Finance\n",
      "9    The controller shall provide information on ac...  Purchasing\n",
      "10   The data subject shall have the right to recei...  Purchasing\n",
      "11   Where the controller has made the personal dat...  Purchasing\n",
      "12   In the case of a personal data breach, the con...  Purchasing\n",
      "13   The controller shall document any personal dat...  Purchasing\n",
      "14   Where a type of processing in particular using...  Purchasing\n",
      "15   1The supervisory authority shall establish and...  Purchasing\n",
      "16   the competent supervisory authority shall appl...  Purchasing\n",
      "17   Each state across the country has consumer pro...   Marketing\n",
      "18   Consumer protection laws allow customers wrong...   Marketing\n",
      "19   A consumer seeking punitive damages may receiv...   Marketing\n",
      "20   Marketing organizations in the United States h...   Marketing\n",
      "21   It is second nature for us to handle sensitive...   Marketing\n",
      "22   Under the law, claims in advertisements must b...   Marketing\n",
      "23   A more recent area of legal concern in marketi...   Marketing\n",
      "24   Marketing Law relates to the statutes, case la...   Marketing\n",
      "25   Another significant area of marketing law pert...   Marketing\n",
      "26   a financial gain, especially the difference be...     Finance\n",
      "27   obtain a financial advantage or benefit, espec...     Finance\n",
      "28   Monetary policy in the United States comprises...     Finance\n",
      "29   The controller shall communicate any rectifica...  Purchasing\n",
      "..                                                 ...         ...\n",
      "552  FMLA/CFRA entitles Employees to take up to 12 ...          HR\n",
      "553  Employees are required to provide at least 30 ...          HR\n",
      "554  If 30 days notice is not practicable, such as ...          HR\n",
      "555  Jury or Witness Duty Leave\\nAn employer may no...          HR\n",
      "556  California law states; Exempt employees must b...          HR\n",
      "557  Non-exempt employees do not have to be paid wa...          HR\n",
      "558  Voting Leave If an Employee does not have suff...          HR\n",
      "559  Domestic Violence and Sexual Assault Victim Le...          HR\n",
      "560  In addition, you may not discharge or discrimi...          HR\n",
      "561  Crime Victims Leave\\nPer California Labor Code...          HR\n",
      "562  Before the absence, the Employee must give the...          HR\n",
      "563  School Activities Leave\\nThe Family-School Par...          HR\n",
      "564  Employers with 25 or more employees working in...          HR\n",
      "565  Suspension\\nCalifornia Labor Code Section 230....          HR\n",
      "566  Volunteer Civil Service Leave\\nYou must provid...          HR\n",
      "567  Military Service Leave\\nYou may not refuse to ...          HR\n",
      "568  Right to a Leave of Absence: Advance notice of...          HR\n",
      "569  Reemployment Rights Partially Depend Upon Leng...          HR\n",
      "570  Paid Time Off and Pension Issues: Employees ar...          HR\n",
      "571  Rights to Benefits and Seniority: Employees ha...          HR\n",
      "572  Right to Continue Health Plan: Employers must ...          HR\n",
      "573  Job Protection: Finally, under federal law, an...          HR\n",
      "574  State Law and Private Employers: California la...          HR\n",
      "575  te Law and Public Employers: California law pr...          HR\n",
      "576  Leave for Drug and Alcohol Treatment\\nLabor Co...          HR\n",
      "577  Leave for Literacy Assistance\\nLabor Code sect...          HR\n",
      "578  Paid Leave for Organ or Bone Marrow Donation\\n...          HR\n",
      "579  An employee must have been employed for at lea...          HR\n",
      "580  In addition to paid leave, an employer shall m...          HR\n",
      "581  The law prohibits any denial of this new leave...          HR\n",
      "\n",
      "[582 rows x 2 columns]\n"
     ]
    }
   ],
   "source": [
    "import pandas as pd\n",
    "import numpy as np\n",
    "df = pd.read_csv(\"training_data - Sheet1.csv\") \n",
    "print(df)"
   ]
  },
  {
   "cell_type": "code",
   "execution_count": 2,
   "metadata": {},
   "outputs": [
    {
     "name": "stdout",
     "output_type": "stream",
     "text": [
      "{'Finance': 0, 'Purchasing': 1, 'Marketing': 2, 'HR': 3}\n"
     ]
    }
   ],
   "source": [
    "df['category_id'] = df['category'].factorize()[0]\n",
    "#print(df['category_id'])\n",
    "category_id_df = df[['category', 'category_id']].drop_duplicates().sort_values('category_id')\n",
    "category_to_id = dict(category_id_df.values)\n",
    "print(category_to_id)\n",
    "id_to_category = dict(category_id_df[['category_id', 'category']].values)"
   ]
  },
  {
   "cell_type": "code",
   "execution_count": 3,
   "metadata": {},
   "outputs": [
    {
     "data": {
      "text/html": [
       "<div>\n",
       "<style scoped>\n",
       "    .dataframe tbody tr th:only-of-type {\n",
       "        vertical-align: middle;\n",
       "    }\n",
       "\n",
       "    .dataframe tbody tr th {\n",
       "        vertical-align: top;\n",
       "    }\n",
       "\n",
       "    .dataframe thead th {\n",
       "        text-align: right;\n",
       "    }\n",
       "</style>\n",
       "<table border=\"1\" class=\"dataframe\">\n",
       "  <thead>\n",
       "    <tr style=\"text-align: right;\">\n",
       "      <th></th>\n",
       "      <th>text</th>\n",
       "      <th>category</th>\n",
       "      <th>category_id</th>\n",
       "    </tr>\n",
       "  </thead>\n",
       "  <tbody>\n",
       "    <tr>\n",
       "      <th>495</th>\n",
       "      <td>Required Notices\\n Injured Worker Notice: Inj...</td>\n",
       "      <td>HR</td>\n",
       "      <td>3</td>\n",
       "    </tr>\n",
       "    <tr>\n",
       "      <th>190</th>\n",
       "      <td>If the commissioner finds that the proposed ba...</td>\n",
       "      <td>Finance</td>\n",
       "      <td>0</td>\n",
       "    </tr>\n",
       "    <tr>\n",
       "      <th>332</th>\n",
       "      <td>It is the intent of the Legislature that the p...</td>\n",
       "      <td>Finance</td>\n",
       "      <td>0</td>\n",
       "    </tr>\n",
       "    <tr>\n",
       "      <th>409</th>\n",
       "      <td>For purposes of this chapter, offices of fore...</td>\n",
       "      <td>Finance</td>\n",
       "      <td>0</td>\n",
       "    </tr>\n",
       "    <tr>\n",
       "      <th>48</th>\n",
       "      <td>Notwithstanding any other provision of this Ru...</td>\n",
       "      <td>Marketing</td>\n",
       "      <td>2</td>\n",
       "    </tr>\n",
       "  </tbody>\n",
       "</table>\n",
       "</div>"
      ],
      "text/plain": [
       "                                                  text   category  category_id\n",
       "495  Required Notices\\n Injured Worker Notice: Inj...         HR            3\n",
       "190  If the commissioner finds that the proposed ba...    Finance            0\n",
       "332  It is the intent of the Legislature that the p...    Finance            0\n",
       "409   For purposes of this chapter, offices of fore...    Finance            0\n",
       "48   Notwithstanding any other provision of this Ru...  Marketing            2"
      ]
     },
     "execution_count": 3,
     "metadata": {},
     "output_type": "execute_result"
    }
   ],
   "source": [
    "df.sample(5, random_state=0)"
   ]
  },
  {
   "cell_type": "code",
   "execution_count": 5,
   "metadata": {},
   "outputs": [
    {
     "data": {
      "text/plain": [
       "<matplotlib.axes._subplots.AxesSubplot at 0x7f166615f860>"
      ]
     },
     "execution_count": 5,
     "metadata": {},
     "output_type": "execute_result"
    },
    {
     "data": {
      "image/png": "[encoded data removed]",
      "text/plain": [
       "<Figure size 432x288 with 1 Axes>"
      ]
     },
     "metadata": {},
     "output_type": "display_data"
    }
   ],
   "source": [
    "df.groupby('category').text.count().plot.bar(ylim=0)"
   ]
  },
  {
   "cell_type": "code",
   "execution_count": 6,
   "metadata": {},
   "outputs": [
    {
     "data": {
      "text/plain": [
       "(582, 1089)"
      ]
     },
     "execution_count": 6,
     "metadata": {},
     "output_type": "execute_result"
    }
   ],
   "source": [
    "from sklearn.feature_extraction.text import TfidfVectorizer\n",
    "\n",
    "tfidf = TfidfVectorizer(sublinear_tf=True, min_df=5, norm='l2', encoding='latin-1', ngram_range=(1, 2), stop_words='english')\n",
    "\n",
    "features = tfidf.fit_transform(df.text).toarray()\n",
    "labels = df.category_id\n",
    "features.shape"
   ]
  },
  {
   "cell_type": "code",
   "execution_count": 7,
   "metadata": {},
   "outputs": [
    {
     "name": "stdout",
     "output_type": "stream",
     "text": [
      "# 'Finance':\n",
      "  . Most correlated unigrams:\n",
      "       . shall\n",
      "       . commissioner\n",
      "       . bank\n",
      "  . Most correlated bigrams:\n",
      "       . bank shall\n",
      "       . trust company\n",
      "       . bank trust\n",
      "# 'HR':\n",
      "  . Most correlated unigrams:\n",
      "       . leave\n",
      "       . employees\n",
      "       . employee\n",
      "  . Most correlated bigrams:\n",
      "       . hours worked\n",
      "       . exempt employees\n",
      "       . non exempt\n",
      "# 'Marketing':\n",
      "  . Most correlated unigrams:\n",
      "       . retail\n",
      "       . communications\n",
      "       . communication\n",
      "  . Most correlated bigrams:\n",
      "       . retail communication\n",
      "       . investment company\n",
      "       . retail communications\n",
      "# 'Purchasing':\n",
      "  . Most correlated unigrams:\n",
      "       . processing\n",
      "       . data\n",
      "       . controller\n",
      "  . Most correlated bigrams:\n",
      "       . controller shall\n",
      "       . data subject\n",
      "       . personal data\n"
     ]
    }
   ],
   "source": [
    "from sklearn.feature_selection import chi2\n",
    "\n",
    "N = 3\n",
    "for category, category_id in sorted(category_to_id.items()):\n",
    "  features_chi2 = chi2(features, labels == category_id)\n",
    "  indices = np.argsort(features_chi2[0])\n",
    "  feature_names = np.array(tfidf.get_feature_names())[indices]\n",
    "  unigrams = [v for v in feature_names if len(v.split(' ')) == 1]\n",
    "  bigrams = [v for v in feature_names if len(v.split(' ')) == 2]\n",
    "  print(\"# '{}':\".format(category))\n",
    "  print(\"  . Most correlated unigrams:\\n       . {}\".format('\\n       . '.join(unigrams[-N:])))\n",
    "  print(\"  . Most correlated bigrams:\\n       . {}\".format('\\n       . '.join(bigrams[-N:])))"
   ]
  },
  {
   "cell_type": "code",
   "execution_count": 8,
   "metadata": {},
   "outputs": [
    {
     "data": {
      "text/plain": [
       "<matplotlib.legend.Legend at 0x7f165cb53080>"
      ]
     },
     "execution_count": 8,
     "metadata": {},
     "output_type": "execute_result"
    },
    {
     "data": {
      "image/png": "[encoded data removed]",
      "text/plain": [
       "<Figure size 432x288 with 1 Axes>"
      ]
     },
     "metadata": {},
     "output_type": "display_data"
    }
   ],
   "source": [
    "from sklearn.manifold import TSNE\n",
    "import matplotlib.pyplot as plt\n",
    "\n",
    "# Sampling a subset of our dataset because t-SNE is computationally expensive\n",
    "SAMPLE_SIZE = int(len(features) * 0.3)\n",
    "np.random.seed(0)\n",
    "indices = np.random.choice(range(len(features)), size=SAMPLE_SIZE, replace=False)\n",
    "projected_features = TSNE(n_components=2, random_state=0).fit_transform(features[indices])\n",
    "colors = ['pink', 'green', 'midnightblue', 'orange', 'darkgrey']\n",
    "for category, category_id in sorted(category_to_id.items()):\n",
    "    points = projected_features[(labels[indices] == category_id).values]\n",
    "    plt.scatter(points[:, 0], points[:, 1], s=30, c=colors[category_id], label=category)\n",
    "plt.title(\"tf-idf feature vector for each article, projected on 2 dimensions.\",\n",
    "          fontdict=dict(fontsize=15))\n",
    "plt.legend()"
   ]
  },
  {
   "cell_type": "code",
   "execution_count": 9,
   "metadata": {},
   "outputs": [],
   "source": [
    "from sklearn.linear_model import LogisticRegression\n",
    "from sklearn.ensemble import RandomForestClassifier\n",
    "from sklearn.naive_bayes import MultinomialNB\n",
    "from sklearn.model_selection import cross_val_score\n",
    "\n",
    "\n",
    "models = [\n",
    "    RandomForestClassifier(n_estimators=200, max_depth=3, random_state=0),\n",
    "    MultinomialNB(),\n",
    "    LogisticRegression(random_state=0),\n",
    "]\n",
    "CV = 5\n",
    "cv_df = pd.DataFrame(index=range(CV * len(models)))\n",
    "entries = []\n",
    "for model in models:\n",
    "  model_name = model.__class__.__name__\n",
    "  accuracies = cross_val_score(model, features, labels, scoring='accuracy', cv=CV)\n",
    "  for fold_idx, accuracy in enumerate(accuracies):\n",
    "    entries.append((model_name, fold_idx, accuracy))\n",
    "cv_df = pd.DataFrame(entries, columns=['model_name', 'fold_idx', 'accuracy'])"
   ]
  },
  {
   "cell_type": "code",
   "execution_count": 10,
   "metadata": {},
   "outputs": [
    {
     "data": {
      "text/plain": [
       "<matplotlib.axes._subplots.AxesSubplot at 0x7f16518d99e8>"
      ]
     },
     "execution_count": 10,
     "metadata": {},
     "output_type": "execute_result"
    },
    {
     "data": {
      "image/png": "[encoded data removed]",
      "text/plain": [
       "<Figure size 432x288 with 1 Axes>"
      ]
     },
     "metadata": {},
     "output_type": "display_data"
    }
   ],
   "source": [
    "import seaborn as sns\n",
    "sns.boxplot(x='model_name', y='accuracy', data=cv_df)\n",
    "sns.stripplot(x='model_name', y='accuracy', data=cv_df, \n",
    "              size=8, jitter=True, edgecolor=\"gray\", linewidth=2)"
   ]
  },
  {
   "cell_type": "code",
   "execution_count": 11,
   "metadata": {},
   "outputs": [
    {
     "data": {
      "text/plain": [
       "model_name\n",
       "LogisticRegression        0.890144\n",
       "MultinomialNB             0.935168\n",
       "RandomForestClassifier    0.728609\n",
       "Name: accuracy, dtype: float64"
      ]
     },
     "execution_count": 11,
     "metadata": {},
     "output_type": "execute_result"
    }
   ],
   "source": [
    "cv_df.groupby('model_name').accuracy.mean()"
   ]
  },
  {
   "cell_type": "code",
   "execution_count": 12,
   "metadata": {},
   "outputs": [],
   "source": [
    "from sklearn.model_selection import train_test_split\n",
    "\n",
    "model = LogisticRegression(random_state=0)\n",
    "\n",
    "X_train, X_test, y_train, y_test, indices_train, indices_test = train_test_split(features, labels, df.index, test_size=0.33, random_state=0)\n",
    "model.fit(X_train, y_train)\n",
    "y_pred_proba = model.predict_proba(X_test)\n",
    "y_pred = model.predict(X_test)"
   ]
  },
  {
   "cell_type": "code",
   "execution_count": 13,
   "metadata": {},
   "outputs": [
    {
     "data": {
      "text/plain": [
       "Text(0.5,15,'Predicted')"
      ]
     },
     "execution_count": 13,
     "metadata": {},
     "output_type": "execute_result"
    },
    {
     "data": {
      "image/png": "[encoded data removed]",
      "text/plain": [
       "<Figure size 432x288 with 2 Axes>"
      ]
     },
     "metadata": {},
     "output_type": "display_data"
    }
   ],
   "source": [
    "from sklearn.metrics import confusion_matrix\n",
    "\n",
    "conf_mat = confusion_matrix(y_test, y_pred)\n",
    "sns.heatmap(conf_mat, annot=True, fmt='d',\n",
    "            xticklabels=category_id_df.category.values, yticklabels=category_id_df.category.values)\n",
    "plt.ylabel('Actual')\n",
    "plt.xlabel('Predicted')"
   ]
  },
  {
   "cell_type": "code",
   "execution_count": 14,
   "metadata": {},
   "outputs": [
    {
     "name": "stdout",
     "output_type": "stream",
     "text": [
      "'Purchasing' predicted as 'Finance' : 5 examples.\n"
     ]
    },
    {
     "data": {
      "text/html": [
       "<div>\n",
       "<style scoped>\n",
       "    .dataframe tbody tr th:only-of-type {\n",
       "        vertical-align: middle;\n",
       "    }\n",
       "\n",
       "    .dataframe tbody tr th {\n",
       "        vertical-align: top;\n",
       "    }\n",
       "\n",
       "    .dataframe thead th {\n",
       "        text-align: right;\n",
       "    }\n",
       "</style>\n",
       "<table border=\"1\" class=\"dataframe\">\n",
       "  <thead>\n",
       "    <tr style=\"text-align: right;\">\n",
       "      <th></th>\n",
       "      <th>category</th>\n",
       "      <th>text</th>\n",
       "    </tr>\n",
       "  </thead>\n",
       "  <tbody>\n",
       "    <tr>\n",
       "      <th>12</th>\n",
       "      <td>Purchasing</td>\n",
       "      <td>In the case of a personal data breach, the con...</td>\n",
       "    </tr>\n",
       "    <tr>\n",
       "      <th>31</th>\n",
       "      <td>Purchasing</td>\n",
       "      <td>The controller shall implement appropriate tec...</td>\n",
       "    </tr>\n",
       "    <tr>\n",
       "      <th>14</th>\n",
       "      <td>Purchasing</td>\n",
       "      <td>Where a type of processing in particular using...</td>\n",
       "    </tr>\n",
       "    <tr>\n",
       "      <th>15</th>\n",
       "      <td>Purchasing</td>\n",
       "      <td>1The supervisory authority shall establish and...</td>\n",
       "    </tr>\n",
       "    <tr>\n",
       "      <th>10</th>\n",
       "      <td>Purchasing</td>\n",
       "      <td>The data subject shall have the right to recei...</td>\n",
       "    </tr>\n",
       "  </tbody>\n",
       "</table>\n",
       "</div>"
      ],
      "text/plain": [
       "      category                                               text\n",
       "12  Purchasing  In the case of a personal data breach, the con...\n",
       "31  Purchasing  The controller shall implement appropriate tec...\n",
       "14  Purchasing  Where a type of processing in particular using...\n",
       "15  Purchasing  1The supervisory authority shall establish and...\n",
       "10  Purchasing  The data subject shall have the right to recei..."
      ]
     },
     "metadata": {},
     "output_type": "display_data"
    },
    {
     "name": "stdout",
     "output_type": "stream",
     "text": [
      "\n",
      "'Marketing' predicted as 'Finance' : 3 examples.\n"
     ]
    },
    {
     "data": {
      "text/html": [
       "<div>\n",
       "<style scoped>\n",
       "    .dataframe tbody tr th:only-of-type {\n",
       "        vertical-align: middle;\n",
       "    }\n",
       "\n",
       "    .dataframe tbody tr th {\n",
       "        vertical-align: top;\n",
       "    }\n",
       "\n",
       "    .dataframe thead th {\n",
       "        text-align: right;\n",
       "    }\n",
       "</style>\n",
       "<table border=\"1\" class=\"dataframe\">\n",
       "  <thead>\n",
       "    <tr style=\"text-align: right;\">\n",
       "      <th></th>\n",
       "      <th>category</th>\n",
       "      <th>text</th>\n",
       "    </tr>\n",
       "  </thead>\n",
       "  <tbody>\n",
       "    <tr>\n",
       "      <th>21</th>\n",
       "      <td>Marketing</td>\n",
       "      <td>It is second nature for us to handle sensitive...</td>\n",
       "    </tr>\n",
       "    <tr>\n",
       "      <th>118</th>\n",
       "      <td>Marketing</td>\n",
       "      <td>(A) that the associated person has a financial...</td>\n",
       "    </tr>\n",
       "    <tr>\n",
       "      <th>18</th>\n",
       "      <td>Marketing</td>\n",
       "      <td>Consumer protection laws allow customers wrong...</td>\n",
       "    </tr>\n",
       "  </tbody>\n",
       "</table>\n",
       "</div>"
      ],
      "text/plain": [
       "      category                                               text\n",
       "21   Marketing  It is second nature for us to handle sensitive...\n",
       "118  Marketing  (A) that the associated person has a financial...\n",
       "18   Marketing  Consumer protection laws allow customers wrong..."
      ]
     },
     "metadata": {},
     "output_type": "display_data"
    },
    {
     "name": "stdout",
     "output_type": "stream",
     "text": [
      "\n",
      "'HR' predicted as 'Finance' : 5 examples.\n"
     ]
    },
    {
     "data": {
      "text/html": [
       "<div>\n",
       "<style scoped>\n",
       "    .dataframe tbody tr th:only-of-type {\n",
       "        vertical-align: middle;\n",
       "    }\n",
       "\n",
       "    .dataframe tbody tr th {\n",
       "        vertical-align: top;\n",
       "    }\n",
       "\n",
       "    .dataframe thead th {\n",
       "        text-align: right;\n",
       "    }\n",
       "</style>\n",
       "<table border=\"1\" class=\"dataframe\">\n",
       "  <thead>\n",
       "    <tr style=\"text-align: right;\">\n",
       "      <th></th>\n",
       "      <th>category</th>\n",
       "      <th>text</th>\n",
       "    </tr>\n",
       "  </thead>\n",
       "  <tbody>\n",
       "    <tr>\n",
       "      <th>494</th>\n",
       "      <td>HR</td>\n",
       "      <td>Notify Centricity Solutions of any accidents o...</td>\n",
       "    </tr>\n",
       "    <tr>\n",
       "      <th>503</th>\n",
       "      <td>HR</td>\n",
       "      <td>Harassment is any verbal, physical or visual c...</td>\n",
       "    </tr>\n",
       "    <tr>\n",
       "      <th>455</th>\n",
       "      <td>HR</td>\n",
       "      <td>Willful violations may result in criminal pros...</td>\n",
       "    </tr>\n",
       "    <tr>\n",
       "      <th>531</th>\n",
       "      <td>HR</td>\n",
       "      <td>Reference Checks\\nInformation should not be pr...</td>\n",
       "    </tr>\n",
       "    <tr>\n",
       "      <th>504</th>\n",
       "      <td>HR</td>\n",
       "      <td>Sexual harassment is any unwelcome sexual adva...</td>\n",
       "    </tr>\n",
       "  </tbody>\n",
       "</table>\n",
       "</div>"
      ],
      "text/plain": [
       "    category                                               text\n",
       "494       HR  Notify Centricity Solutions of any accidents o...\n",
       "503       HR  Harassment is any verbal, physical or visual c...\n",
       "455       HR  Willful violations may result in criminal pros...\n",
       "531       HR  Reference Checks\\nInformation should not be pr...\n",
       "504       HR  Sexual harassment is any unwelcome sexual adva..."
      ]
     },
     "metadata": {},
     "output_type": "display_data"
    },
    {
     "name": "stdout",
     "output_type": "stream",
     "text": [
      "\n"
     ]
    }
   ],
   "source": [
    "from IPython.display import display\n",
    "\n",
    "for predicted in category_id_df.category_id:\n",
    "  for actual in category_id_df.category_id:\n",
    "    if predicted != actual and conf_mat[actual, predicted] >= 2:\n",
    "      print(\"'{}' predicted as '{}' : {} examples.\".format(id_to_category[actual], id_to_category[predicted], conf_mat[actual, predicted]))\n",
    "      display(df.loc[indices_test[(y_test == actual) & (y_pred == predicted)]][['category', 'text']])\n",
    "      print('')"
   ]
  },
  {
   "cell_type": "code",
   "execution_count": 15,
   "metadata": {},
   "outputs": [
    {
     "data": {
      "text/plain": [
       "LogisticRegression(C=1.0, class_weight=None, dual=False, fit_intercept=True,\n",
       "          intercept_scaling=1, max_iter=100, multi_class='ovr', n_jobs=1,\n",
       "          penalty='l2', random_state=0, solver='liblinear', tol=0.0001,\n",
       "          verbose=0, warm_start=False)"
      ]
     },
     "execution_count": 15,
     "metadata": {},
     "output_type": "execute_result"
    }
   ],
   "source": [
    "model.fit(features, labels)"
   ]
  },
  {
   "cell_type": "code",
   "execution_count": 16,
   "metadata": {},
   "outputs": [
    {
     "name": "stdout",
     "output_type": "stream",
     "text": [
      "# 'Finance':\n",
      "  . Top unigrams:\n",
      "       . bank\n",
      "       . commissioner\n",
      "       . shall\n",
      "       . office\n",
      "       . section\n",
      "  . Top bigrams:\n",
      "       . bank shall\n",
      "       . bank trust\n",
      "       . trust company\n",
      "       . branch office\n",
      "       . pursuant section\n",
      "# 'HR':\n",
      "  . Top unigrams:\n",
      "       . employee\n",
      "       . employees\n",
      "       . employer\n",
      "       . work\n",
      "       . employers\n",
      "  . Top bigrams:\n",
      "       . non exempt\n",
      "       . labor code\n",
      "       . sexual harassment\n",
      "       . hours worked\n",
      "       . exempt employees\n",
      "# 'Marketing':\n",
      "  . Top unigrams:\n",
      "       . communication\n",
      "       . member\n",
      "       . investment\n",
      "       . communications\n",
      "       . retail\n",
      "  . Top bigrams:\n",
      "       . investment company\n",
      "       . retail communications\n",
      "       . products services\n",
      "       . retail communication\n",
      "       . investment companies\n",
      "# 'Purchasing':\n",
      "  . Top unigrams:\n",
      "       . data\n",
      "       . controller\n",
      "       . personal\n",
      "       . processing\n",
      "       . supervisory\n",
      "  . Top bigrams:\n",
      "       . personal data\n",
      "       . data subject\n",
      "       . controller shall\n",
      "       . pursuant paragraph\n",
      "       . action taken\n"
     ]
    }
   ],
   "source": [
    "from sklearn.feature_selection import chi2\n",
    "\n",
    "N = 5\n",
    "for category, category_id in sorted(category_to_id.items()):\n",
    "  indices = np.argsort(model.coef_[category_id])\n",
    "  feature_names = np.array(tfidf.get_feature_names())[indices]\n",
    "  unigrams = [v for v in reversed(feature_names) if len(v.split(' ')) == 1][:N]\n",
    "  bigrams = [v for v in reversed(feature_names) if len(v.split(' ')) == 2][:N]\n",
    "  print(\"# '{}':\".format(category))\n",
    "  print(\"  . Top unigrams:\\n       . {}\".format('\\n       . '.join(unigrams)))\n",
    "  print(\"  . Top bigrams:\\n       . {}\".format('\\n       . '.join(bigrams)))"
   ]
  },
  {
   "cell_type": "code",
   "execution_count": 17,
   "metadata": {},
   "outputs": [
    {
     "data": {
      "text/plain": [
       "Finance      57\n",
       "Marketing    20\n",
       "HR            5\n",
       "Name: category, dtype: int64"
      ]
     },
     "execution_count": 17,
     "metadata": {},
     "output_type": "execute_result"
    }
   ],
   "source": [
    "df[df.text.str.lower().str.contains('business')].category.value_counts()"
   ]
  },
  {
   "cell_type": "code",
   "execution_count": 18,
   "metadata": {},
   "outputs": [
    {
     "name": "stdout",
     "output_type": "stream",
     "text": [
      "\"Establishing rules, procedures, and any exceptions necessary to ensure that the notices and information that businesses are required to provide pursuant to this title are provided in a manner that may be easily understood by the average consumer, are accessible to consumers with disabilities, and are available in the language primarily used to interact with the consumer, including establishing rules and guidelines regarding financial incentive offerings, within one year of passage of this title and as needed thereafter.\"\n",
      "  - Predicted as: 'Marketing'\n",
      "\n",
      "\"The development and use of a recognizable and uniform opt-out logo or button by all businesses to promote consumer awareness of the opportunity to opt out of the sale of personal information.\"\n",
      "  - Predicted as: 'Finance'\n",
      "\n"
     ]
    }
   ],
   "source": [
    "texts = [\"Establishing rules, procedures, and any exceptions necessary to ensure that the notices and information that businesses are required to provide pursuant to this title are provided in a manner that may be easily understood by the average consumer, are accessible to consumers with disabilities, and are available in the language primarily used to interact with the consumer, including establishing rules and guidelines regarding financial incentive offerings, within one year of passage of this title and as needed thereafter.\",\"The development and use of a recognizable and uniform opt-out logo or button by all businesses to promote consumer awareness of the opportunity to opt out of the sale of personal information.\"]\n",
    "text_features = tfidf.transform(texts)\n",
    "predictions = model.predict(text_features)\n",
    "for text, predicted in zip(texts, predictions):\n",
    "  print('\"{}\"'.format(text))\n",
    "  print(\"  - Predicted as: '{}'\".format(id_to_category[predicted]))\n",
    "  print(\"\")"
   ]
  },
  {
   "cell_type": "code",
   "execution_count": null,
   "metadata": {},
   "outputs": [],
   "source": []
  }
 ],
 "metadata": {
  "kernelspec": {
   "display_name": "Python 3",
   "language": "python",
   "name": "python3"
  },
  "language_info": {
   "codemirror_mode": {
    "name": "ipython",
    "version": 3
   },
   "file_extension": ".py",
   "mimetype": "text/x-python",
   "name": "python",
   "nbconvert_exporter": "python",
   "pygments_lexer": "ipython3",
   "version": "3.6.5"
  }
 },
 "nbformat": 4,
 "nbformat_minor": 2
}
